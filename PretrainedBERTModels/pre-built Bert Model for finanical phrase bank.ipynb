{
 "cells": [
  {
   "cell_type": "code",
   "execution_count": 4,
   "id": "03d24b84-9fa0-40e7-a03e-64e11f5e47b9",
   "metadata": {},
   "outputs": [
    {
     "name": "stdout",
     "output_type": "stream",
     "text": [
      "Requirement already satisfied: torch in ./anaconda3/envs/FYP/lib/python3.11/site-packages (2.2.0)\n",
      "Requirement already satisfied: torchvision in ./anaconda3/envs/FYP/lib/python3.11/site-packages (0.17.0)\n",
      "Requirement already satisfied: torchaudio in ./anaconda3/envs/FYP/lib/python3.11/site-packages (2.2.0)\n",
      "Requirement already satisfied: filelock in ./anaconda3/envs/FYP/lib/python3.11/site-packages (from torch) (3.13.1)\n",
      "Requirement already satisfied: typing-extensions>=4.8.0 in ./anaconda3/envs/FYP/lib/python3.11/site-packages (from torch) (4.9.0)\n",
      "Requirement already satisfied: sympy in ./anaconda3/envs/FYP/lib/python3.11/site-packages (from torch) (1.12)\n",
      "Requirement already satisfied: networkx in ./anaconda3/envs/FYP/lib/python3.11/site-packages (from torch) (3.1)\n",
      "Requirement already satisfied: jinja2 in ./anaconda3/envs/FYP/lib/python3.11/site-packages (from torch) (3.1.2)\n",
      "Requirement already satisfied: fsspec in ./anaconda3/envs/FYP/lib/python3.11/site-packages (from torch) (2024.2.0)\n",
      "Requirement already satisfied: numpy in ./anaconda3/envs/FYP/lib/python3.11/site-packages (from torchvision) (1.26.2)\n",
      "Requirement already satisfied: requests in ./anaconda3/envs/FYP/lib/python3.11/site-packages (from torchvision) (2.31.0)\n",
      "Requirement already satisfied: pillow!=8.3.*,>=5.3.0 in ./anaconda3/envs/FYP/lib/python3.11/site-packages (from torchvision) (10.0.1)\n",
      "Requirement already satisfied: MarkupSafe>=2.0 in ./anaconda3/envs/FYP/lib/python3.11/site-packages (from jinja2->torch) (2.1.1)\n",
      "Requirement already satisfied: charset-normalizer<4,>=2 in ./anaconda3/envs/FYP/lib/python3.11/site-packages (from requests->torchvision) (2.0.4)\n",
      "Requirement already satisfied: idna<4,>=2.5 in ./anaconda3/envs/FYP/lib/python3.11/site-packages (from requests->torchvision) (3.4)\n",
      "Requirement already satisfied: urllib3<3,>=1.21.1 in ./anaconda3/envs/FYP/lib/python3.11/site-packages (from requests->torchvision) (1.26.18)\n",
      "Requirement already satisfied: certifi>=2017.4.17 in ./anaconda3/envs/FYP/lib/python3.11/site-packages (from requests->torchvision) (2024.2.2)\n",
      "Requirement already satisfied: mpmath>=0.19 in ./anaconda3/envs/FYP/lib/python3.11/site-packages (from sympy->torch) (1.3.0)\n"
     ]
    }
   ],
   "source": [
    "!pip3 install torch torchvision torchaudio"
   ]
  },
  {
   "cell_type": "code",
   "execution_count": 5,
   "id": "76581feb-0611-40d9-bf22-d65bc2d047e9",
   "metadata": {},
   "outputs": [
    {
     "name": "stdout",
     "output_type": "stream",
     "text": [
      "Requirement already satisfied: transformers in ./anaconda3/envs/FYP/lib/python3.11/site-packages (4.37.2)\n",
      "Requirement already satisfied: requests in ./anaconda3/envs/FYP/lib/python3.11/site-packages (2.31.0)\n",
      "Requirement already satisfied: pandas in ./anaconda3/envs/FYP/lib/python3.11/site-packages (2.1.4)\n",
      "Requirement already satisfied: filelock in ./anaconda3/envs/FYP/lib/python3.11/site-packages (from transformers) (3.13.1)\n",
      "Requirement already satisfied: huggingface-hub<1.0,>=0.19.3 in ./anaconda3/envs/FYP/lib/python3.11/site-packages (from transformers) (0.20.3)\n",
      "Requirement already satisfied: numpy>=1.17 in ./anaconda3/envs/FYP/lib/python3.11/site-packages (from transformers) (1.26.2)\n",
      "Requirement already satisfied: packaging>=20.0 in ./anaconda3/envs/FYP/lib/python3.11/site-packages (from transformers) (23.1)\n",
      "Requirement already satisfied: pyyaml>=5.1 in ./anaconda3/envs/FYP/lib/python3.11/site-packages (from transformers) (6.0.1)\n",
      "Requirement already satisfied: regex!=2019.12.17 in ./anaconda3/envs/FYP/lib/python3.11/site-packages (from transformers) (2023.12.25)\n",
      "Requirement already satisfied: tokenizers<0.19,>=0.14 in ./anaconda3/envs/FYP/lib/python3.11/site-packages (from transformers) (0.15.1)\n",
      "Requirement already satisfied: safetensors>=0.4.1 in ./anaconda3/envs/FYP/lib/python3.11/site-packages (from transformers) (0.4.2)\n",
      "Requirement already satisfied: tqdm>=4.27 in ./anaconda3/envs/FYP/lib/python3.11/site-packages (from transformers) (4.66.1)\n",
      "Requirement already satisfied: charset-normalizer<4,>=2 in ./anaconda3/envs/FYP/lib/python3.11/site-packages (from requests) (2.0.4)\n",
      "Requirement already satisfied: idna<4,>=2.5 in ./anaconda3/envs/FYP/lib/python3.11/site-packages (from requests) (3.4)\n",
      "Requirement already satisfied: urllib3<3,>=1.21.1 in ./anaconda3/envs/FYP/lib/python3.11/site-packages (from requests) (1.26.18)\n",
      "Requirement already satisfied: certifi>=2017.4.17 in ./anaconda3/envs/FYP/lib/python3.11/site-packages (from requests) (2024.2.2)\n",
      "Requirement already satisfied: python-dateutil>=2.8.2 in ./anaconda3/envs/FYP/lib/python3.11/site-packages (from pandas) (2.8.2)\n",
      "Requirement already satisfied: pytz>=2020.1 in ./anaconda3/envs/FYP/lib/python3.11/site-packages (from pandas) (2023.3.post1)\n",
      "Requirement already satisfied: tzdata>=2022.1 in ./anaconda3/envs/FYP/lib/python3.11/site-packages (from pandas) (2023.3)\n",
      "Requirement already satisfied: fsspec>=2023.5.0 in ./anaconda3/envs/FYP/lib/python3.11/site-packages (from huggingface-hub<1.0,>=0.19.3->transformers) (2024.2.0)\n",
      "Requirement already satisfied: typing-extensions>=3.7.4.3 in ./anaconda3/envs/FYP/lib/python3.11/site-packages (from huggingface-hub<1.0,>=0.19.3->transformers) (4.9.0)\n",
      "Requirement already satisfied: six>=1.5 in ./anaconda3/envs/FYP/lib/python3.11/site-packages (from python-dateutil>=2.8.2->pandas) (1.16.0)\n"
     ]
    }
   ],
   "source": [
    "!pip3 install transformers requests pandas "
   ]
  },
  {
   "cell_type": "code",
   "execution_count": 6,
   "id": "c2e3decf-2199-40f3-9425-39665b350738",
   "metadata": {},
   "outputs": [],
   "source": [
    "from transformers import AutoTokenizer, AutoModelForSequenceClassification\n",
    "import torch\n",
    "import re"
   ]
  },
  {
   "cell_type": "code",
   "execution_count": 7,
   "id": "fc2b7793-645b-45e6-923d-07ea7ed0dbf1",
   "metadata": {},
   "outputs": [],
   "source": [
    "tokenizer = AutoTokenizer.from_pretrained('nlptown/bert-base-multilingual-uncased-sentiment')\n",
    "model = AutoModelForSequenceClassification.from_pretrained('nlptown/bert-base-multilingual-uncased-sentiment')"
   ]
  },
  {
   "cell_type": "code",
   "execution_count": 8,
   "id": "178ca7db-05d1-40ac-943b-da10b3fe1fd5",
   "metadata": {},
   "outputs": [],
   "source": [
    "tokens = tokenizer.encode('this is amazing', return_tensors='pt')"
   ]
  },
  {
   "cell_type": "code",
   "execution_count": 9,
   "id": "b7e5c166-572c-47b5-9464-43ee122b1828",
   "metadata": {},
   "outputs": [],
   "source": [
    "result = model(tokens)"
   ]
  },
  {
   "cell_type": "code",
   "execution_count": 10,
   "id": "411b3398-3aa7-401d-81c9-719e5230862f",
   "metadata": {},
   "outputs": [
    {
     "data": {
      "text/plain": [
       "5"
      ]
     },
     "execution_count": 10,
     "metadata": {},
     "output_type": "execute_result"
    }
   ],
   "source": [
    "int(torch.argmax(result.logits))+1"
   ]
  },
  {
   "cell_type": "code",
   "execution_count": 11,
   "id": "fd56c619-4226-4313-9152-54e2ad97e88b",
   "metadata": {},
   "outputs": [],
   "source": [
    "import pandas as pd"
   ]
  },
  {
   "cell_type": "code",
   "execution_count": 12,
   "id": "3592f4c1-f2e8-4eb5-b7f7-b40ab3129ff2",
   "metadata": {},
   "outputs": [],
   "source": [
    "review_df = pd.read_csv('/Users/aaq1bm/anaconda3/envs/FYP/archive (2)/new-all-data.csv', encoding='latin1')"
   ]
  },
  {
   "cell_type": "code",
   "execution_count": 13,
   "id": "7ddb610a-3b9a-4ffd-b51a-f8fa6d952d6b",
   "metadata": {},
   "outputs": [],
   "source": [
    "def sentiment_score(review):\n",
    "    tokens = tokenizer.encode(review, return_tensors='pt')\n",
    "    result = model(tokens)\n",
    "    return int(torch.argmax(result.logits))+1"
   ]
  },
  {
   "cell_type": "code",
   "execution_count": 14,
   "id": "c749e8b9-e908-4253-87bc-5188c0dcdbd3",
   "metadata": {},
   "outputs": [],
   "source": [
    "review_df['sentiment_score'] = review_df['Reviews'].apply(sentiment_score)"
   ]
  },
  {
   "cell_type": "code",
   "execution_count": 15,
   "id": "4202bdea-1127-425f-bfd8-968be0b66d24",
   "metadata": {},
   "outputs": [
    {
     "data": {
      "text/html": [
       "<div>\n",
       "<style scoped>\n",
       "    .dataframe tbody tr th:only-of-type {\n",
       "        vertical-align: middle;\n",
       "    }\n",
       "\n",
       "    .dataframe tbody tr th {\n",
       "        vertical-align: top;\n",
       "    }\n",
       "\n",
       "    .dataframe thead th {\n",
       "        text-align: right;\n",
       "    }\n",
       "</style>\n",
       "<table border=\"1\" class=\"dataframe\">\n",
       "  <thead>\n",
       "    <tr style=\"text-align: right;\">\n",
       "      <th></th>\n",
       "      <th>Sentiments</th>\n",
       "      <th>Reviews</th>\n",
       "      <th>sentiment_score</th>\n",
       "    </tr>\n",
       "  </thead>\n",
       "  <tbody>\n",
       "    <tr>\n",
       "      <th>0</th>\n",
       "      <td>neutral</td>\n",
       "      <td>According to Gran , the company has no plans t...</td>\n",
       "      <td>3</td>\n",
       "    </tr>\n",
       "    <tr>\n",
       "      <th>1</th>\n",
       "      <td>neutral</td>\n",
       "      <td>Technopolis plans to develop in stages an area...</td>\n",
       "      <td>4</td>\n",
       "    </tr>\n",
       "    <tr>\n",
       "      <th>2</th>\n",
       "      <td>negative</td>\n",
       "      <td>The international electronic industry company ...</td>\n",
       "      <td>1</td>\n",
       "    </tr>\n",
       "    <tr>\n",
       "      <th>3</th>\n",
       "      <td>positive</td>\n",
       "      <td>With the new production plant the company woul...</td>\n",
       "      <td>5</td>\n",
       "    </tr>\n",
       "    <tr>\n",
       "      <th>4</th>\n",
       "      <td>positive</td>\n",
       "      <td>According to the company 's updated strategy f...</td>\n",
       "      <td>4</td>\n",
       "    </tr>\n",
       "    <tr>\n",
       "      <th>...</th>\n",
       "      <td>...</td>\n",
       "      <td>...</td>\n",
       "      <td>...</td>\n",
       "    </tr>\n",
       "    <tr>\n",
       "      <th>4841</th>\n",
       "      <td>negative</td>\n",
       "      <td>LONDON MarketWatch -- Share prices ended lower...</td>\n",
       "      <td>2</td>\n",
       "    </tr>\n",
       "    <tr>\n",
       "      <th>4842</th>\n",
       "      <td>neutral</td>\n",
       "      <td>Rinkuskiai 's beer sales fell by 6.5 per cent ...</td>\n",
       "      <td>1</td>\n",
       "    </tr>\n",
       "    <tr>\n",
       "      <th>4843</th>\n",
       "      <td>negative</td>\n",
       "      <td>Operating profit fell to EUR 35.4 mn from EUR ...</td>\n",
       "      <td>1</td>\n",
       "    </tr>\n",
       "    <tr>\n",
       "      <th>4844</th>\n",
       "      <td>negative</td>\n",
       "      <td>Net sales of the Paper segment decreased to EU...</td>\n",
       "      <td>1</td>\n",
       "    </tr>\n",
       "    <tr>\n",
       "      <th>4845</th>\n",
       "      <td>negative</td>\n",
       "      <td>Sales in Finland decreased by 10.5 % in Januar...</td>\n",
       "      <td>1</td>\n",
       "    </tr>\n",
       "  </tbody>\n",
       "</table>\n",
       "<p>4846 rows × 3 columns</p>\n",
       "</div>"
      ],
      "text/plain": [
       "     Sentiments                                            Reviews  \\\n",
       "0       neutral  According to Gran , the company has no plans t...   \n",
       "1       neutral  Technopolis plans to develop in stages an area...   \n",
       "2      negative  The international electronic industry company ...   \n",
       "3      positive  With the new production plant the company woul...   \n",
       "4      positive  According to the company 's updated strategy f...   \n",
       "...         ...                                                ...   \n",
       "4841   negative  LONDON MarketWatch -- Share prices ended lower...   \n",
       "4842    neutral  Rinkuskiai 's beer sales fell by 6.5 per cent ...   \n",
       "4843   negative  Operating profit fell to EUR 35.4 mn from EUR ...   \n",
       "4844   negative  Net sales of the Paper segment decreased to EU...   \n",
       "4845   negative  Sales in Finland decreased by 10.5 % in Januar...   \n",
       "\n",
       "      sentiment_score  \n",
       "0                   3  \n",
       "1                   4  \n",
       "2                   1  \n",
       "3                   5  \n",
       "4                   4  \n",
       "...               ...  \n",
       "4841                2  \n",
       "4842                1  \n",
       "4843                1  \n",
       "4844                1  \n",
       "4845                1  \n",
       "\n",
       "[4846 rows x 3 columns]"
      ]
     },
     "execution_count": 15,
     "metadata": {},
     "output_type": "execute_result"
    }
   ],
   "source": [
    "review_df"
   ]
  },
  {
   "cell_type": "code",
   "execution_count": 16,
   "id": "bf3ffeb7-f0bf-4030-927a-e6de2da25325",
   "metadata": {},
   "outputs": [],
   "source": [
    "review_df.to_csv('/Users/aaq1bm/anaconda3/envs/FYP/archive (2)/new-all-data.csv', index=False, mode='w')"
   ]
  },
  {
   "cell_type": "code",
   "execution_count": 17,
   "id": "55eb3183-3787-403d-95f4-53b51438a507",
   "metadata": {},
   "outputs": [],
   "source": [
    "for index, row in review_df.iterrows():\n",
    "    sentiment = row['sentiment_score']\n",
    "    if sentiment in [1, 2]:\n",
    "        review_df.at[index, 'PredictedSentiments'] = 'negative'\n",
    "    elif sentiment == 3:\n",
    "        review_df.at[index, 'PredictedSentiments'] = 'neutral'\n",
    "    elif sentiment in [4, 5]:\n",
    "        review_df.at[index, 'PredictedSentiments'] = 'positive'"
   ]
  },
  {
   "cell_type": "code",
   "execution_count": 18,
   "id": "9162f348-9921-4199-a1cf-a9936b87a966",
   "metadata": {},
   "outputs": [
    {
     "data": {
      "text/html": [
       "<div>\n",
       "<style scoped>\n",
       "    .dataframe tbody tr th:only-of-type {\n",
       "        vertical-align: middle;\n",
       "    }\n",
       "\n",
       "    .dataframe tbody tr th {\n",
       "        vertical-align: top;\n",
       "    }\n",
       "\n",
       "    .dataframe thead th {\n",
       "        text-align: right;\n",
       "    }\n",
       "</style>\n",
       "<table border=\"1\" class=\"dataframe\">\n",
       "  <thead>\n",
       "    <tr style=\"text-align: right;\">\n",
       "      <th></th>\n",
       "      <th>Sentiments</th>\n",
       "      <th>Reviews</th>\n",
       "      <th>sentiment_score</th>\n",
       "      <th>PredictedSentiments</th>\n",
       "    </tr>\n",
       "  </thead>\n",
       "  <tbody>\n",
       "    <tr>\n",
       "      <th>0</th>\n",
       "      <td>neutral</td>\n",
       "      <td>According to Gran , the company has no plans t...</td>\n",
       "      <td>3</td>\n",
       "      <td>neutral</td>\n",
       "    </tr>\n",
       "    <tr>\n",
       "      <th>1</th>\n",
       "      <td>neutral</td>\n",
       "      <td>Technopolis plans to develop in stages an area...</td>\n",
       "      <td>4</td>\n",
       "      <td>positive</td>\n",
       "    </tr>\n",
       "    <tr>\n",
       "      <th>2</th>\n",
       "      <td>negative</td>\n",
       "      <td>The international electronic industry company ...</td>\n",
       "      <td>1</td>\n",
       "      <td>negative</td>\n",
       "    </tr>\n",
       "    <tr>\n",
       "      <th>3</th>\n",
       "      <td>positive</td>\n",
       "      <td>With the new production plant the company woul...</td>\n",
       "      <td>5</td>\n",
       "      <td>positive</td>\n",
       "    </tr>\n",
       "    <tr>\n",
       "      <th>4</th>\n",
       "      <td>positive</td>\n",
       "      <td>According to the company 's updated strategy f...</td>\n",
       "      <td>4</td>\n",
       "      <td>positive</td>\n",
       "    </tr>\n",
       "    <tr>\n",
       "      <th>...</th>\n",
       "      <td>...</td>\n",
       "      <td>...</td>\n",
       "      <td>...</td>\n",
       "      <td>...</td>\n",
       "    </tr>\n",
       "    <tr>\n",
       "      <th>4841</th>\n",
       "      <td>negative</td>\n",
       "      <td>LONDON MarketWatch -- Share prices ended lower...</td>\n",
       "      <td>2</td>\n",
       "      <td>negative</td>\n",
       "    </tr>\n",
       "    <tr>\n",
       "      <th>4842</th>\n",
       "      <td>neutral</td>\n",
       "      <td>Rinkuskiai 's beer sales fell by 6.5 per cent ...</td>\n",
       "      <td>1</td>\n",
       "      <td>negative</td>\n",
       "    </tr>\n",
       "    <tr>\n",
       "      <th>4843</th>\n",
       "      <td>negative</td>\n",
       "      <td>Operating profit fell to EUR 35.4 mn from EUR ...</td>\n",
       "      <td>1</td>\n",
       "      <td>negative</td>\n",
       "    </tr>\n",
       "    <tr>\n",
       "      <th>4844</th>\n",
       "      <td>negative</td>\n",
       "      <td>Net sales of the Paper segment decreased to EU...</td>\n",
       "      <td>1</td>\n",
       "      <td>negative</td>\n",
       "    </tr>\n",
       "    <tr>\n",
       "      <th>4845</th>\n",
       "      <td>negative</td>\n",
       "      <td>Sales in Finland decreased by 10.5 % in Januar...</td>\n",
       "      <td>1</td>\n",
       "      <td>negative</td>\n",
       "    </tr>\n",
       "  </tbody>\n",
       "</table>\n",
       "<p>4846 rows × 4 columns</p>\n",
       "</div>"
      ],
      "text/plain": [
       "     Sentiments                                            Reviews  \\\n",
       "0       neutral  According to Gran , the company has no plans t...   \n",
       "1       neutral  Technopolis plans to develop in stages an area...   \n",
       "2      negative  The international electronic industry company ...   \n",
       "3      positive  With the new production plant the company woul...   \n",
       "4      positive  According to the company 's updated strategy f...   \n",
       "...         ...                                                ...   \n",
       "4841   negative  LONDON MarketWatch -- Share prices ended lower...   \n",
       "4842    neutral  Rinkuskiai 's beer sales fell by 6.5 per cent ...   \n",
       "4843   negative  Operating profit fell to EUR 35.4 mn from EUR ...   \n",
       "4844   negative  Net sales of the Paper segment decreased to EU...   \n",
       "4845   negative  Sales in Finland decreased by 10.5 % in Januar...   \n",
       "\n",
       "      sentiment_score PredictedSentiments  \n",
       "0                   3             neutral  \n",
       "1                   4            positive  \n",
       "2                   1            negative  \n",
       "3                   5            positive  \n",
       "4                   4            positive  \n",
       "...               ...                 ...  \n",
       "4841                2            negative  \n",
       "4842                1            negative  \n",
       "4843                1            negative  \n",
       "4844                1            negative  \n",
       "4845                1            negative  \n",
       "\n",
       "[4846 rows x 4 columns]"
      ]
     },
     "execution_count": 18,
     "metadata": {},
     "output_type": "execute_result"
    }
   ],
   "source": [
    "review_df"
   ]
  },
  {
   "cell_type": "code",
   "execution_count": 19,
   "id": "17174c41-009d-4154-a7c7-033a534b4f61",
   "metadata": {},
   "outputs": [
    {
     "name": "stderr",
     "output_type": "stream",
     "text": [
      "huggingface/tokenizers: The current process just got forked, after parallelism has already been used. Disabling parallelism to avoid deadlocks...\n",
      "To disable this warning, you can either:\n",
      "\t- Avoid using `tokenizers` before the fork if possible\n",
      "\t- Explicitly set the environment variable TOKENIZERS_PARALLELISM=(true | false)\n"
     ]
    }
   ],
   "source": [
    "from sklearn.metrics import accuracy_score"
   ]
  },
  {
   "cell_type": "code",
   "execution_count": 20,
   "id": "9dda902a-1643-49bd-b7b9-b82b4768db5c",
   "metadata": {},
   "outputs": [],
   "source": [
    "score = accuracy_score(review_df['Sentiments'], review_df['PredictedSentiments'])"
   ]
  },
  {
   "cell_type": "code",
   "execution_count": 21,
   "id": "9a1bad86-ae9a-4de4-af7b-c2642bd087e7",
   "metadata": {},
   "outputs": [
    {
     "name": "stdout",
     "output_type": "stream",
     "text": [
      "Accuracy Score: 0.3103590590177466\n"
     ]
    }
   ],
   "source": [
    "print(\"Accuracy Score:\", score)"
   ]
  },
  {
   "cell_type": "code",
   "execution_count": 22,
   "id": "7e092515-1606-41bf-b85d-564ae04374eb",
   "metadata": {},
   "outputs": [],
   "source": [
    "review_df.to_csv('/Users/aaq1bm/anaconda3/envs/FYP/archive (2)/new-all-data.csv', index=False, mode='w')"
   ]
  },
  {
   "cell_type": "code",
   "execution_count": 23,
   "id": "d1005e08-5a01-48e9-a3ab-92b5c34aa60b",
   "metadata": {},
   "outputs": [
    {
     "data": {
      "text/html": [
       "<div>\n",
       "<style scoped>\n",
       "    .dataframe tbody tr th:only-of-type {\n",
       "        vertical-align: middle;\n",
       "    }\n",
       "\n",
       "    .dataframe tbody tr th {\n",
       "        vertical-align: top;\n",
       "    }\n",
       "\n",
       "    .dataframe thead th {\n",
       "        text-align: right;\n",
       "    }\n",
       "</style>\n",
       "<table border=\"1\" class=\"dataframe\">\n",
       "  <thead>\n",
       "    <tr style=\"text-align: right;\">\n",
       "      <th></th>\n",
       "      <th>Sentiments</th>\n",
       "      <th>Reviews</th>\n",
       "      <th>sentiment_score</th>\n",
       "      <th>PredictedSentiments</th>\n",
       "    </tr>\n",
       "  </thead>\n",
       "  <tbody>\n",
       "    <tr>\n",
       "      <th>0</th>\n",
       "      <td>neutral</td>\n",
       "      <td>According to Gran , the company has no plans t...</td>\n",
       "      <td>3</td>\n",
       "      <td>neutral</td>\n",
       "    </tr>\n",
       "    <tr>\n",
       "      <th>1</th>\n",
       "      <td>neutral</td>\n",
       "      <td>Technopolis plans to develop in stages an area...</td>\n",
       "      <td>4</td>\n",
       "      <td>positive</td>\n",
       "    </tr>\n",
       "    <tr>\n",
       "      <th>2</th>\n",
       "      <td>negative</td>\n",
       "      <td>The international electronic industry company ...</td>\n",
       "      <td>1</td>\n",
       "      <td>negative</td>\n",
       "    </tr>\n",
       "    <tr>\n",
       "      <th>3</th>\n",
       "      <td>positive</td>\n",
       "      <td>With the new production plant the company woul...</td>\n",
       "      <td>5</td>\n",
       "      <td>positive</td>\n",
       "    </tr>\n",
       "    <tr>\n",
       "      <th>4</th>\n",
       "      <td>positive</td>\n",
       "      <td>According to the company 's updated strategy f...</td>\n",
       "      <td>4</td>\n",
       "      <td>positive</td>\n",
       "    </tr>\n",
       "    <tr>\n",
       "      <th>...</th>\n",
       "      <td>...</td>\n",
       "      <td>...</td>\n",
       "      <td>...</td>\n",
       "      <td>...</td>\n",
       "    </tr>\n",
       "    <tr>\n",
       "      <th>4841</th>\n",
       "      <td>negative</td>\n",
       "      <td>LONDON MarketWatch -- Share prices ended lower...</td>\n",
       "      <td>2</td>\n",
       "      <td>negative</td>\n",
       "    </tr>\n",
       "    <tr>\n",
       "      <th>4842</th>\n",
       "      <td>neutral</td>\n",
       "      <td>Rinkuskiai 's beer sales fell by 6.5 per cent ...</td>\n",
       "      <td>1</td>\n",
       "      <td>negative</td>\n",
       "    </tr>\n",
       "    <tr>\n",
       "      <th>4843</th>\n",
       "      <td>negative</td>\n",
       "      <td>Operating profit fell to EUR 35.4 mn from EUR ...</td>\n",
       "      <td>1</td>\n",
       "      <td>negative</td>\n",
       "    </tr>\n",
       "    <tr>\n",
       "      <th>4844</th>\n",
       "      <td>negative</td>\n",
       "      <td>Net sales of the Paper segment decreased to EU...</td>\n",
       "      <td>1</td>\n",
       "      <td>negative</td>\n",
       "    </tr>\n",
       "    <tr>\n",
       "      <th>4845</th>\n",
       "      <td>negative</td>\n",
       "      <td>Sales in Finland decreased by 10.5 % in Januar...</td>\n",
       "      <td>1</td>\n",
       "      <td>negative</td>\n",
       "    </tr>\n",
       "  </tbody>\n",
       "</table>\n",
       "<p>4846 rows × 4 columns</p>\n",
       "</div>"
      ],
      "text/plain": [
       "     Sentiments                                            Reviews  \\\n",
       "0       neutral  According to Gran , the company has no plans t...   \n",
       "1       neutral  Technopolis plans to develop in stages an area...   \n",
       "2      negative  The international electronic industry company ...   \n",
       "3      positive  With the new production plant the company woul...   \n",
       "4      positive  According to the company 's updated strategy f...   \n",
       "...         ...                                                ...   \n",
       "4841   negative  LONDON MarketWatch -- Share prices ended lower...   \n",
       "4842    neutral  Rinkuskiai 's beer sales fell by 6.5 per cent ...   \n",
       "4843   negative  Operating profit fell to EUR 35.4 mn from EUR ...   \n",
       "4844   negative  Net sales of the Paper segment decreased to EU...   \n",
       "4845   negative  Sales in Finland decreased by 10.5 % in Januar...   \n",
       "\n",
       "      sentiment_score PredictedSentiments  \n",
       "0                   3             neutral  \n",
       "1                   4            positive  \n",
       "2                   1            negative  \n",
       "3                   5            positive  \n",
       "4                   4            positive  \n",
       "...               ...                 ...  \n",
       "4841                2            negative  \n",
       "4842                1            negative  \n",
       "4843                1            negative  \n",
       "4844                1            negative  \n",
       "4845                1            negative  \n",
       "\n",
       "[4846 rows x 4 columns]"
      ]
     },
     "execution_count": 23,
     "metadata": {},
     "output_type": "execute_result"
    }
   ],
   "source": [
    "review_df"
   ]
  },
  {
   "cell_type": "code",
   "execution_count": null,
   "id": "791c8f75-7522-467d-93c0-055035a58295",
   "metadata": {},
   "outputs": [],
   "source": []
  }
 ],
 "metadata": {
  "kernelspec": {
   "display_name": "FYP",
   "language": "python",
   "name": "fyp"
  },
  "language_info": {
   "codemirror_mode": {
    "name": "ipython",
    "version": 3
   },
   "file_extension": ".py",
   "mimetype": "text/x-python",
   "name": "python",
   "nbconvert_exporter": "python",
   "pygments_lexer": "ipython3",
   "version": "3.11.5"
  }
 },
 "nbformat": 4,
 "nbformat_minor": 5
}
