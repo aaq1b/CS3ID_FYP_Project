{
 "cells": [
  {
   "cell_type": "code",
   "execution_count": 1,
   "id": "c85e1314-5360-4143-97b0-1e36b3c272e8",
   "metadata": {},
   "outputs": [],
   "source": [
    "from simpletransformers.classification import ClassificationModel, ClassificationArgs\n",
    "import pandas as pd\n",
    "from sklearn.metrics import accuracy_score\n",
    "import logging"
   ]
  },
  {
   "cell_type": "code",
   "execution_count": 2,
   "id": "f42b68f6-93e5-4b2d-b5b9-79433e2971f3",
   "metadata": {},
   "outputs": [],
   "source": [
    "logging.basicConfig(level=logging.INFO)\n",
    "Transformerslogger = logging.getLogger(\"transformers\")\n",
    "Transformerslogger.setLevel(logging.WARNING)"
   ]
  },
  {
   "cell_type": "code",
   "execution_count": 3,
   "id": "7fa681fd-bfcd-43af-b6d2-47dc44f567f3",
   "metadata": {},
   "outputs": [],
   "source": [
    "file_path = '/Users/aaq1bm/AaqibMirzaTests/financialData.csv'\n",
    "review = pd.read_csv(file_path, encoding='latin1')"
   ]
  },
  {
   "cell_type": "code",
   "execution_count": 4,
   "id": "45590911-fb8a-4ecc-9b30-4ee6634769d4",
   "metadata": {},
   "outputs": [],
   "source": [
    "train_df = pd.DataFrame(review)"
   ]
  },
  {
   "cell_type": "code",
   "execution_count": 5,
   "id": "679686d1-c263-4f80-9c2b-812bcd9cf13a",
   "metadata": {},
   "outputs": [],
   "source": [
    "sentiment = { 'positive': 2, 'neutral': 1, 'negative': 0 }"
   ]
  },
  {
   "cell_type": "code",
   "execution_count": 6,
   "id": "ef6585d2-921c-449d-8c5f-e6b3e995dcc5",
   "metadata": {},
   "outputs": [],
   "source": [
    "train_df['labels'] = train_df['Sentiments'].map(sentiment)"
   ]
  },
  {
   "cell_type": "code",
   "execution_count": 7,
   "id": "57b9babd-c4bb-40bc-9203-930077a47978",
   "metadata": {},
   "outputs": [],
   "source": [
    "train_df = train_df[[\"Reviews\", \"labels\"]]"
   ]
  },
  {
   "cell_type": "code",
   "execution_count": 8,
   "id": "f6c10759-1eec-4933-afe5-697d18b27d2d",
   "metadata": {},
   "outputs": [
    {
     "data": {
      "text/html": [
       "<div>\n",
       "<style scoped>\n",
       "    .dataframe tbody tr th:only-of-type {\n",
       "        vertical-align: middle;\n",
       "    }\n",
       "\n",
       "    .dataframe tbody tr th {\n",
       "        vertical-align: top;\n",
       "    }\n",
       "\n",
       "    .dataframe thead th {\n",
       "        text-align: right;\n",
       "    }\n",
       "</style>\n",
       "<table border=\"1\" class=\"dataframe\">\n",
       "  <thead>\n",
       "    <tr style=\"text-align: right;\">\n",
       "      <th></th>\n",
       "      <th>Reviews</th>\n",
       "      <th>labels</th>\n",
       "    </tr>\n",
       "  </thead>\n",
       "  <tbody>\n",
       "    <tr>\n",
       "      <th>0</th>\n",
       "      <td>According to Gran , the company has no plans t...</td>\n",
       "      <td>1</td>\n",
       "    </tr>\n",
       "    <tr>\n",
       "      <th>1</th>\n",
       "      <td>Technopolis plans to develop in stages an area...</td>\n",
       "      <td>1</td>\n",
       "    </tr>\n",
       "    <tr>\n",
       "      <th>2</th>\n",
       "      <td>The international electronic industry company ...</td>\n",
       "      <td>0</td>\n",
       "    </tr>\n",
       "    <tr>\n",
       "      <th>3</th>\n",
       "      <td>With the new production plant the company woul...</td>\n",
       "      <td>2</td>\n",
       "    </tr>\n",
       "    <tr>\n",
       "      <th>4</th>\n",
       "      <td>According to the company 's updated strategy f...</td>\n",
       "      <td>2</td>\n",
       "    </tr>\n",
       "    <tr>\n",
       "      <th>...</th>\n",
       "      <td>...</td>\n",
       "      <td>...</td>\n",
       "    </tr>\n",
       "    <tr>\n",
       "      <th>4841</th>\n",
       "      <td>LONDON MarketWatch -- Share prices ended lower...</td>\n",
       "      <td>0</td>\n",
       "    </tr>\n",
       "    <tr>\n",
       "      <th>4842</th>\n",
       "      <td>Rinkuskiai 's beer sales fell by 6.5 per cent ...</td>\n",
       "      <td>1</td>\n",
       "    </tr>\n",
       "    <tr>\n",
       "      <th>4843</th>\n",
       "      <td>Operating profit fell to EUR 35.4 mn from EUR ...</td>\n",
       "      <td>0</td>\n",
       "    </tr>\n",
       "    <tr>\n",
       "      <th>4844</th>\n",
       "      <td>Net sales of the Paper segment decreased to EU...</td>\n",
       "      <td>0</td>\n",
       "    </tr>\n",
       "    <tr>\n",
       "      <th>4845</th>\n",
       "      <td>Sales in Finland decreased by 10.5 % in Januar...</td>\n",
       "      <td>0</td>\n",
       "    </tr>\n",
       "  </tbody>\n",
       "</table>\n",
       "<p>4846 rows × 2 columns</p>\n",
       "</div>"
      ],
      "text/plain": [
       "                                                Reviews  labels\n",
       "0     According to Gran , the company has no plans t...       1\n",
       "1     Technopolis plans to develop in stages an area...       1\n",
       "2     The international electronic industry company ...       0\n",
       "3     With the new production plant the company woul...       2\n",
       "4     According to the company 's updated strategy f...       2\n",
       "...                                                 ...     ...\n",
       "4841  LONDON MarketWatch -- Share prices ended lower...       0\n",
       "4842  Rinkuskiai 's beer sales fell by 6.5 per cent ...       1\n",
       "4843  Operating profit fell to EUR 35.4 mn from EUR ...       0\n",
       "4844  Net sales of the Paper segment decreased to EU...       0\n",
       "4845  Sales in Finland decreased by 10.5 % in Januar...       0\n",
       "\n",
       "[4846 rows x 2 columns]"
      ]
     },
     "execution_count": 8,
     "metadata": {},
     "output_type": "execute_result"
    }
   ],
   "source": [
    "train_df"
   ]
  },
  {
   "cell_type": "code",
   "execution_count": 9,
   "id": "54b1c4d5-0060-48bd-819b-51f1e9cbc98f",
   "metadata": {},
   "outputs": [],
   "source": [
    "eval_df = train_df.sample(n=500, random_state=5)"
   ]
  },
  {
   "cell_type": "code",
   "execution_count": 10,
   "id": "abc51a9c-da37-49c3-afaa-31818db85fe1",
   "metadata": {},
   "outputs": [
    {
     "data": {
      "text/html": [
       "<div>\n",
       "<style scoped>\n",
       "    .dataframe tbody tr th:only-of-type {\n",
       "        vertical-align: middle;\n",
       "    }\n",
       "\n",
       "    .dataframe tbody tr th {\n",
       "        vertical-align: top;\n",
       "    }\n",
       "\n",
       "    .dataframe thead th {\n",
       "        text-align: right;\n",
       "    }\n",
       "</style>\n",
       "<table border=\"1\" class=\"dataframe\">\n",
       "  <thead>\n",
       "    <tr style=\"text-align: right;\">\n",
       "      <th></th>\n",
       "      <th>Reviews</th>\n",
       "      <th>labels</th>\n",
       "    </tr>\n",
       "  </thead>\n",
       "  <tbody>\n",
       "    <tr>\n",
       "      <th>1434</th>\n",
       "      <td>The training modules aim at strengthening the ...</td>\n",
       "      <td>2</td>\n",
       "    </tr>\n",
       "    <tr>\n",
       "      <th>3546</th>\n",
       "      <td>By the end of 2006 , the number of joint branc...</td>\n",
       "      <td>1</td>\n",
       "    </tr>\n",
       "    <tr>\n",
       "      <th>3196</th>\n",
       "      <td>The company reiterates its outlook for 2009 .</td>\n",
       "      <td>1</td>\n",
       "    </tr>\n",
       "    <tr>\n",
       "      <th>1521</th>\n",
       "      <td>Exel wants to serve its industrial customers w...</td>\n",
       "      <td>1</td>\n",
       "    </tr>\n",
       "    <tr>\n",
       "      <th>795</th>\n",
       "      <td>`` Our customers now have the chance to make b...</td>\n",
       "      <td>2</td>\n",
       "    </tr>\n",
       "    <tr>\n",
       "      <th>...</th>\n",
       "      <td>...</td>\n",
       "      <td>...</td>\n",
       "    </tr>\n",
       "    <tr>\n",
       "      <th>2435</th>\n",
       "      <td>Digia will also set up two subsidiaries , Digi...</td>\n",
       "      <td>1</td>\n",
       "    </tr>\n",
       "    <tr>\n",
       "      <th>3027</th>\n",
       "      <td>Mercator will use the software for its logisti...</td>\n",
       "      <td>1</td>\n",
       "    </tr>\n",
       "    <tr>\n",
       "      <th>2696</th>\n",
       "      <td>Together with Latvia , Cramo will operate 54 r...</td>\n",
       "      <td>1</td>\n",
       "    </tr>\n",
       "    <tr>\n",
       "      <th>3000</th>\n",
       "      <td>KESKO FOOD LTD PRESS RELEASE 04.01.2006 AT 13....</td>\n",
       "      <td>2</td>\n",
       "    </tr>\n",
       "    <tr>\n",
       "      <th>1228</th>\n",
       "      <td>Furthermore , our fully electrically driven cr...</td>\n",
       "      <td>2</td>\n",
       "    </tr>\n",
       "  </tbody>\n",
       "</table>\n",
       "<p>500 rows × 2 columns</p>\n",
       "</div>"
      ],
      "text/plain": [
       "                                                Reviews  labels\n",
       "1434  The training modules aim at strengthening the ...       2\n",
       "3546  By the end of 2006 , the number of joint branc...       1\n",
       "3196      The company reiterates its outlook for 2009 .       1\n",
       "1521  Exel wants to serve its industrial customers w...       1\n",
       "795   `` Our customers now have the chance to make b...       2\n",
       "...                                                 ...     ...\n",
       "2435  Digia will also set up two subsidiaries , Digi...       1\n",
       "3027  Mercator will use the software for its logisti...       1\n",
       "2696  Together with Latvia , Cramo will operate 54 r...       1\n",
       "3000  KESKO FOOD LTD PRESS RELEASE 04.01.2006 AT 13....       2\n",
       "1228  Furthermore , our fully electrically driven cr...       2\n",
       "\n",
       "[500 rows x 2 columns]"
      ]
     },
     "execution_count": 10,
     "metadata": {},
     "output_type": "execute_result"
    }
   ],
   "source": [
    "eval_df "
   ]
  },
  {
   "cell_type": "code",
   "execution_count": 11,
   "id": "d5c15032-a20f-4fa6-bb21-2c0e1bc52263",
   "metadata": {},
   "outputs": [],
   "source": [
    "output_dir_model1 = \"/Users/aaq1bm/AaqibMirzaTests/outputs1\""
   ]
  },
  {
   "cell_type": "code",
   "execution_count": 12,
   "id": "d6c32a07-6beb-485d-9462-25239793a906",
   "metadata": {},
   "outputs": [
    {
     "name": "stderr",
     "output_type": "stream",
     "text": [
      "Some weights of BertForSequenceClassification were not initialized from the model checkpoint at bert-base-cased and are newly initialized: ['classifier.bias', 'classifier.weight']\n",
      "You should probably TRAIN this model on a down-stream task to be able to use it for predictions and inference.\n"
     ]
    }
   ],
   "source": [
    "model = ClassificationModel(\n",
    "    'bert',\n",
    "    'bert-base-cased',\n",
    "    num_labels=3,\n",
    "    use_cuda=False,\n",
    "    args={'output_dir': output_dir_model1}\n",
    ") "
   ]
  },
  {
   "cell_type": "code",
   "execution_count": 13,
   "id": "89da81f2-a032-4432-af05-aba4572ebb52",
   "metadata": {},
   "outputs": [],
   "source": [
    "def compute_metrics(self, preds, model_outputs, labels, eval_examples, **kwargs):\n",
    "    result = {}\n",
    "    accuracy = accuracy_score(labels, preds) \n",
    "    result['accuracy'] = accuracy\n",
    "    wrong_predictions = [i for i, (pred, label) in enumerate(zip(preds, labels)) if pred != label]\n",
    "    return result, wrong_predictions"
   ]
  },
  {
   "cell_type": "code",
   "execution_count": 14,
   "id": "a12fdc69-f577-469e-9bf4-02480a751997",
   "metadata": {},
   "outputs": [],
   "source": [
    "import os"
   ]
  },
  {
   "cell_type": "code",
   "execution_count": 15,
   "id": "46f1244f-c034-46f8-841f-1d5de3dcd242",
   "metadata": {},
   "outputs": [],
   "source": [
    "os.environ[\"TOKENIZERS_PARALLELISM\"] = \"false\""
   ]
  },
  {
   "cell_type": "code",
   "execution_count": 16,
   "id": "2d4bdb75-6134-4c7b-9086-3e31eb2a84c7",
   "metadata": {},
   "outputs": [],
   "source": [
    "model.compute_metrics = compute_metrics.__get__(model)"
   ]
  },
  {
   "cell_type": "code",
   "execution_count": 17,
   "id": "b246a15f-ecb1-4443-a1af-96716cd9d811",
   "metadata": {},
   "outputs": [],
   "source": [
    "train_df = train_df.drop(eval_df.index)"
   ]
  },
  {
   "cell_type": "code",
   "execution_count": 18,
   "id": "32a1ac95-a31e-479d-9a8f-49d56beb54f9",
   "metadata": {},
   "outputs": [
    {
     "data": {
      "text/html": [
       "<div>\n",
       "<style scoped>\n",
       "    .dataframe tbody tr th:only-of-type {\n",
       "        vertical-align: middle;\n",
       "    }\n",
       "\n",
       "    .dataframe tbody tr th {\n",
       "        vertical-align: top;\n",
       "    }\n",
       "\n",
       "    .dataframe thead th {\n",
       "        text-align: right;\n",
       "    }\n",
       "</style>\n",
       "<table border=\"1\" class=\"dataframe\">\n",
       "  <thead>\n",
       "    <tr style=\"text-align: right;\">\n",
       "      <th></th>\n",
       "      <th>Reviews</th>\n",
       "      <th>labels</th>\n",
       "    </tr>\n",
       "  </thead>\n",
       "  <tbody>\n",
       "    <tr>\n",
       "      <th>1</th>\n",
       "      <td>Technopolis plans to develop in stages an area...</td>\n",
       "      <td>1</td>\n",
       "    </tr>\n",
       "    <tr>\n",
       "      <th>2</th>\n",
       "      <td>The international electronic industry company ...</td>\n",
       "      <td>0</td>\n",
       "    </tr>\n",
       "    <tr>\n",
       "      <th>3</th>\n",
       "      <td>With the new production plant the company woul...</td>\n",
       "      <td>2</td>\n",
       "    </tr>\n",
       "    <tr>\n",
       "      <th>4</th>\n",
       "      <td>According to the company 's updated strategy f...</td>\n",
       "      <td>2</td>\n",
       "    </tr>\n",
       "    <tr>\n",
       "      <th>5</th>\n",
       "      <td>FINANCING OF ASPOCOMP 'S GROWTH Aspocomp is ag...</td>\n",
       "      <td>2</td>\n",
       "    </tr>\n",
       "    <tr>\n",
       "      <th>...</th>\n",
       "      <td>...</td>\n",
       "      <td>...</td>\n",
       "    </tr>\n",
       "    <tr>\n",
       "      <th>4840</th>\n",
       "      <td>HELSINKI Thomson Financial - Shares in Cargote...</td>\n",
       "      <td>0</td>\n",
       "    </tr>\n",
       "    <tr>\n",
       "      <th>4842</th>\n",
       "      <td>Rinkuskiai 's beer sales fell by 6.5 per cent ...</td>\n",
       "      <td>1</td>\n",
       "    </tr>\n",
       "    <tr>\n",
       "      <th>4843</th>\n",
       "      <td>Operating profit fell to EUR 35.4 mn from EUR ...</td>\n",
       "      <td>0</td>\n",
       "    </tr>\n",
       "    <tr>\n",
       "      <th>4844</th>\n",
       "      <td>Net sales of the Paper segment decreased to EU...</td>\n",
       "      <td>0</td>\n",
       "    </tr>\n",
       "    <tr>\n",
       "      <th>4845</th>\n",
       "      <td>Sales in Finland decreased by 10.5 % in Januar...</td>\n",
       "      <td>0</td>\n",
       "    </tr>\n",
       "  </tbody>\n",
       "</table>\n",
       "<p>4346 rows × 2 columns</p>\n",
       "</div>"
      ],
      "text/plain": [
       "                                                Reviews  labels\n",
       "1     Technopolis plans to develop in stages an area...       1\n",
       "2     The international electronic industry company ...       0\n",
       "3     With the new production plant the company woul...       2\n",
       "4     According to the company 's updated strategy f...       2\n",
       "5     FINANCING OF ASPOCOMP 'S GROWTH Aspocomp is ag...       2\n",
       "...                                                 ...     ...\n",
       "4840  HELSINKI Thomson Financial - Shares in Cargote...       0\n",
       "4842  Rinkuskiai 's beer sales fell by 6.5 per cent ...       1\n",
       "4843  Operating profit fell to EUR 35.4 mn from EUR ...       0\n",
       "4844  Net sales of the Paper segment decreased to EU...       0\n",
       "4845  Sales in Finland decreased by 10.5 % in Januar...       0\n",
       "\n",
       "[4346 rows x 2 columns]"
      ]
     },
     "execution_count": 18,
     "metadata": {},
     "output_type": "execute_result"
    }
   ],
   "source": [
    "train_df"
   ]
  },
  {
   "cell_type": "code",
   "execution_count": 19,
   "id": "fe480ae1-9718-4520-a58b-576292e62d15",
   "metadata": {},
   "outputs": [
    {
     "name": "stderr",
     "output_type": "stream",
     "text": [
      "/Users/aaq1bm/anaconda3/envs/FYP/lib/python3.11/site-packages/simpletransformers/classification/classification_model.py:610: UserWarning: Dataframe headers not specified. Falling back to using column 0 as text and column 1 as labels.\n",
      "  warnings.warn(\n",
      "INFO:simpletransformers.classification.classification_utils: Converting to features started. Cache is not used.\n"
     ]
    },
    {
     "data": {
      "application/vnd.jupyter.widget-view+json": {
       "model_id": "22595673c3894171af02979ea3f686ed",
       "version_major": 2,
       "version_minor": 0
      },
      "text/plain": [
       "  0%|          | 0/8 [00:00<?, ?it/s]"
      ]
     },
     "metadata": {},
     "output_type": "display_data"
    },
    {
     "name": "stderr",
     "output_type": "stream",
     "text": [
      "INFO:simpletransformers.classification.classification_utils: Saving features into cached file cache_dir/cached_train_bert_128_3_2\n"
     ]
    },
    {
     "data": {
      "application/vnd.jupyter.widget-view+json": {
       "model_id": "0231c4d5392641ad855b49da52a7b4e4",
       "version_major": 2,
       "version_minor": 0
      },
      "text/plain": [
       "Epoch:   0%|          | 0/1 [00:00<?, ?it/s]"
      ]
     },
     "metadata": {},
     "output_type": "display_data"
    },
    {
     "data": {
      "application/vnd.jupyter.widget-view+json": {
       "model_id": "284d7e36931f46538b964c30e504f5ec",
       "version_major": 2,
       "version_minor": 0
      },
      "text/plain": [
       "Running Epoch 1 of 1:   0%|          | 0/544 [00:00<?, ?it/s]"
      ]
     },
     "metadata": {},
     "output_type": "display_data"
    },
    {
     "name": "stderr",
     "output_type": "stream",
     "text": [
      "INFO:simpletransformers.classification.classification_model: Training of bert model complete. Saved to /Users/aaq1bm/AaqibMirzaTests/outputs1.\n"
     ]
    },
    {
     "data": {
      "text/plain": [
       "(544, 0.5463212599484798)"
      ]
     },
     "execution_count": 19,
     "metadata": {},
     "output_type": "execute_result"
    }
   ],
   "source": [
    "model.train_model(train_df)"
   ]
  },
  {
   "cell_type": "code",
   "execution_count": 20,
   "id": "c0190820-cca2-4889-93d2-a30d7a8a8083",
   "metadata": {},
   "outputs": [
    {
     "name": "stderr",
     "output_type": "stream",
     "text": [
      "/Users/aaq1bm/anaconda3/envs/FYP/lib/python3.11/site-packages/simpletransformers/classification/classification_model.py:1453: UserWarning: Dataframe headers not specified. Falling back to using column 0 as text and column 1 as labels.\n",
      "  warnings.warn(\n",
      "INFO:simpletransformers.classification.classification_utils: Converting to features started. Cache is not used.\n"
     ]
    },
    {
     "data": {
      "application/vnd.jupyter.widget-view+json": {
       "model_id": "3980413b358d4ac8a01c1ea40aa780d1",
       "version_major": 2,
       "version_minor": 0
      },
      "text/plain": [
       "  0%|          | 0/1 [00:00<?, ?it/s]"
      ]
     },
     "metadata": {},
     "output_type": "display_data"
    },
    {
     "name": "stderr",
     "output_type": "stream",
     "text": [
      "INFO:simpletransformers.classification.classification_utils: Saving features into cached file cache_dir/cached_dev_bert_128_3_2\n"
     ]
    },
    {
     "data": {
      "application/vnd.jupyter.widget-view+json": {
       "model_id": "12405ba143604c488a20eb8d927d2caa",
       "version_major": 2,
       "version_minor": 0
      },
      "text/plain": [
       "Running Evaluation:   0%|          | 0/5 [00:00<?, ?it/s]"
      ]
     },
     "metadata": {},
     "output_type": "display_data"
    },
    {
     "name": "stderr",
     "output_type": "stream",
     "text": [
      "INFO:simpletransformers.classification.classification_model:{'accuracy': 0.87, 'eval_loss': 0.3477988332509995}\n"
     ]
    }
   ],
   "source": [
    "result, model_outputs, wrong_predictions = model.eval_model(eval_df)"
   ]
  },
  {
   "cell_type": "code",
   "execution_count": 21,
   "id": "0e4b7a63-1bae-4bd5-b41d-4ac3066e67f5",
   "metadata": {},
   "outputs": [
    {
     "name": "stdout",
     "output_type": "stream",
     "text": [
      "model_outputs :\n",
      "[[-3.12797761  0.76044965  1.66899347]\n",
      " [-2.390769    2.92753744 -1.40381777]\n",
      " [-2.79404759  1.96544898 -0.02210679]\n",
      " ...\n",
      " [-3.05289769  2.50113225 -0.28450882]\n",
      " [-3.18722177  1.1298157   1.40818155]\n",
      " [-3.08081627  1.07964027  1.09790385]]\n"
     ]
    }
   ],
   "source": [
    "print(\"model_outputs :\")\n",
    "print(model_outputs)"
   ]
  },
  {
   "cell_type": "code",
   "execution_count": 22,
   "id": "d42037bc-0196-4fb8-95fa-2c31b28b7cc5",
   "metadata": {},
   "outputs": [
    {
     "name": "stdout",
     "output_type": "stream",
     "text": [
      "wrong predictions :\n",
      "[4, 22, 27, 28, 42, 50, 58, 59, 61, 62, 67, 68, 72, 80, 93, 112, 113, 117, 120, 128, 133, 141, 148, 150, 152, 156, 172, 183, 186, 193, 195, 197, 204, 217, 221, 226, 234, 242, 262, 267, 278, 300, 313, 318, 341, 359, 366, 367, 369, 372, 382, 388, 404, 407, 419, 421, 422, 424, 426, 447, 471, 474, 480, 482, 485]\n"
     ]
    }
   ],
   "source": [
    "print(\"wrong predictions :\")\n",
    "print(wrong_predictions)"
   ]
  },
  {
   "cell_type": "code",
   "execution_count": 23,
   "id": "46adc180-97f6-4214-a478-fe7548464691",
   "metadata": {},
   "outputs": [
    {
     "name": "stdout",
     "output_type": "stream",
     "text": [
      " result :\n",
      "{'accuracy': 0.87, 'eval_loss': 0.3477988332509995}\n"
     ]
    }
   ],
   "source": [
    "print(\" result :\")\n",
    "print(result)"
   ]
  }
 ],
 "metadata": {
  "kernelspec": {
   "display_name": "FYP",
   "language": "python",
   "name": "fyp"
  },
  "language_info": {
   "codemirror_mode": {
    "name": "ipython",
    "version": 3
   },
   "file_extension": ".py",
   "mimetype": "text/x-python",
   "name": "python",
   "nbconvert_exporter": "python",
   "pygments_lexer": "ipython3",
   "version": "3.11.5"
  }
 },
 "nbformat": 4,
 "nbformat_minor": 5
}
